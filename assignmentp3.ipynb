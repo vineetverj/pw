{
 "cells": [
  {
   "cell_type": "code",
   "execution_count": 1,
   "id": "96e0aec3-c1bf-47cf-8385-945d1bf34ce9",
   "metadata": {},
   "outputs": [
    {
     "ename": "SyntaxError",
     "evalue": "invalid syntax (1685502777.py, line 1)",
     "output_type": "error",
     "traceback": [
      "\u001b[0;36m  Cell \u001b[0;32mIn [1], line 1\u001b[0;36m\u001b[0m\n\u001b[0;31m    1. Write a Python program to print the numbers from 1 to 10 using a `for` loop.\u001b[0m\n\u001b[0m       ^\u001b[0m\n\u001b[0;31mSyntaxError\u001b[0m\u001b[0;31m:\u001b[0m invalid syntax\n"
     ]
    }
   ],
   "source": [
    "1. Write a Python program to print the numbers from 1 to 10 using a `for` loop."
   ]
  },
  {
   "cell_type": "code",
   "execution_count": null,
   "id": "bcc503fb-4c7e-4289-b9c0-12542ff0c21e",
   "metadata": {},
   "outputs": [],
   "source": [
    "list1 = []\n",
    "for i in range(1,11):\n",
    "    list1.append(i)\n",
    "print(list1)"
   ]
  },
  {
   "cell_type": "code",
   "execution_count": null,
   "id": "30100d76-d498-438e-b0c3-7ccdf51707ed",
   "metadata": {},
   "outputs": [],
   "source": [
    "2. Create a program that calculates the sum of all numbers in a list using a `for` loop."
   ]
  },
  {
   "cell_type": "code",
   "execution_count": null,
   "id": "b5c25557-0f62-4e20-a3a8-9d6d7bf03587",
   "metadata": {},
   "outputs": [],
   "source": [
    "number = [1,2,3,4,5,5,6,6,7,8]\n",
    "result =0\n",
    "i =0\n",
    "for i in number:\n",
    "    result += i\n",
    "print(result)"
   ]
  },
  {
   "cell_type": "code",
   "execution_count": null,
   "id": "f45fd9fa-7b48-4526-8b20-4a69f280884c",
   "metadata": {},
   "outputs": [],
   "source": [
    "3. Write a program to print the characters of a string in reverse order using a `for` loop."
   ]
  },
  {
   "cell_type": "code",
   "execution_count": null,
   "id": "7413c7cd-9077-4dba-ad4a-e1d0dc03093b",
   "metadata": {},
   "outputs": [],
   "source": [
    "str  = input(\"enter the string\")\n",
    "result  = \" \"\n",
    "for i in range(len(str)-1,-1,-1):\n",
    "    result = result + str[i]\n",
    "print(result)"
   ]
  },
  {
   "cell_type": "code",
   "execution_count": null,
   "id": "ad7eeba3-def4-4ef6-9a2d-42ea67e36365",
   "metadata": {},
   "outputs": [],
   "source": [
    "4. Develop a program that finds the factorial of a given number using a `for` loop."
   ]
  },
  {
   "cell_type": "code",
   "execution_count": null,
   "id": "755baa02-64de-404a-92c2-a983aaa4c872",
   "metadata": {},
   "outputs": [],
   "source": [
    "ans  = int(input(\"enter the number\"))\n",
    "result = 1\n",
    "for i in range(1,ans+1):\n",
    "           result = result*i\n",
    "print(\"factorial of number is:\",result)"
   ]
  },
  {
   "cell_type": "code",
   "execution_count": null,
   "id": "397cabb9-fe3d-4d70-bf6f-36e1cbf9693c",
   "metadata": {},
   "outputs": [],
   "source": [
    "5. Create a program to print the multiplication table of a given number using a `for` loop."
   ]
  },
  {
   "cell_type": "code",
   "execution_count": null,
   "id": "70d387c2-9013-470a-8aa2-59db7f5044a5",
   "metadata": {},
   "outputs": [],
   "source": [
    "mul = int(input(\"enter the number\"))\n",
    "result = 0\n",
    "for i in range(1,11):\n",
    "    result = mul *i\n",
    "    print(f\"{mul} * {i} = \",result)\n",
    "    result = 0\n",
    " "
   ]
  },
  {
   "cell_type": "code",
   "execution_count": null,
   "id": "c8d5b8a2-e159-4d82-8c61-2d3491520514",
   "metadata": {},
   "outputs": [],
   "source": [
    "6. Write a program that counts the number of even and odd numbers in a list using a `for` loop."
   ]
  },
  {
   "cell_type": "code",
   "execution_count": null,
   "id": "2110c157-e41f-4535-aec3-efabde246a1c",
   "metadata": {},
   "outputs": [],
   "source": [
    "counteven  = 0\n",
    "countodd = 0\n",
    "list = [1,2,3,4,5,6,7,8,9,10]\n",
    "for i in list:\n",
    "    if i%2 != 0:\n",
    "        countodd = countodd + 1\n",
    "    if i%2 == 0:\n",
    "        counteven = counteven +1\n",
    "print(\"count of even number is\",counteven)\n",
    "print(\"count of odd number is:\",countodd)\n"
   ]
  },
  {
   "cell_type": "code",
   "execution_count": null,
   "id": "ff8e4c12-944e-482a-b57b-9fcdcb6bb56c",
   "metadata": {},
   "outputs": [],
   "source": [
    "7. Develop a program that prints the squares of numbers from 1 to 5 using a `for` loop."
   ]
  },
  {
   "cell_type": "code",
   "execution_count": null,
   "id": "ab6d2567-1069-45c5-bda1-89ced99c237e",
   "metadata": {},
   "outputs": [],
   "source": [
    "list = []\n",
    "for i in range(1,6):\n",
    "    list.append(i*i)\n",
    "print(list)"
   ]
  },
  {
   "cell_type": "code",
   "execution_count": null,
   "id": "a1f2cfd1-9c05-4567-b295-1b66b0c165ac",
   "metadata": {},
   "outputs": [],
   "source": [
    "8. Create a program to find the length of a string without using the `len()` function."
   ]
  },
  {
   "cell_type": "code",
   "execution_count": null,
   "id": "fa046190-8c18-4555-a523-38dfb134427c",
   "metadata": {},
   "outputs": [],
   "source": [
    "str = input(\"enter the string\")\n",
    "count = 0\n",
    "for i in str:\n",
    "    count = count+1\n",
    "print(\"string length is\",count)"
   ]
  },
  {
   "cell_type": "code",
   "execution_count": null,
   "id": "bc9ab00b-f159-4fc6-8b8b-b124dd6b6f0f",
   "metadata": {},
   "outputs": [],
   "source": [
    "9. Write a program that calculates the average of a list of numbers using a `for` loop."
   ]
  },
  {
   "cell_type": "code",
   "execution_count": null,
   "id": "94da3682-fc2c-4dee-84b3-674a3ad13402",
   "metadata": {},
   "outputs": [],
   "source": [
    "list = [1,2,3,4,5,6]\n",
    "result = 0\n",
    "for i in list:\n",
    "    result = result + i\n",
    "average = result/len(list)\n",
    "print(average)"
   ]
  },
  {
   "cell_type": "code",
   "execution_count": null,
   "id": "18ace007-d172-4bcd-83be-7abc1bb0920a",
   "metadata": {},
   "outputs": [],
   "source": [
    "10. Develop a program that prints the first `n` Fibonacci numbers using a `for` loop."
   ]
  },
  {
   "cell_type": "code",
   "execution_count": null,
   "id": "992c45e0-84d0-4cdf-9806-1b1e8dae8b59",
   "metadata": {},
   "outputs": [],
   "source": [
    "list = [0,1]\n",
    "\n",
    "n= int(input(\"enter the number\"))\n",
    "for i in range(2,n):\n",
    "    next1 = list[-1] + list[-2]\n",
    "    list.append(next1)\n",
    "print(list)"
   ]
  },
  {
   "cell_type": "code",
   "execution_count": null,
   "id": "0443042a-5251-4735-9852-3e5416fac28b",
   "metadata": {},
   "outputs": [],
   "source": [
    "  \n",
    "    Intermediate level\n",
    "\n",
    "\n"
   ]
  },
  {
   "cell_type": "code",
   "execution_count": null,
   "id": "10abf892-8fc8-4696-a1e8-d92440152957",
   "metadata": {},
   "outputs": [],
   "source": [
    "11. Write a program to check if a given list contains any duplicates using a `for` loop."
   ]
  },
  {
   "cell_type": "code",
   "execution_count": null,
   "id": "b5a79206-86c7-4f5c-a88c-b4eed47586c9",
   "metadata": {},
   "outputs": [],
   "source": [
    "list = [1,2,2,3,3,3,4,4]\n",
    "unique_list = []\n",
    "for i in list:\n",
    "    if i not in unique_list:\n",
    "        unique_list.append(i)\n",
    "print(unique_list)"
   ]
  },
  {
   "cell_type": "code",
   "execution_count": 2,
   "id": "70cff4f5-5dc7-4193-95af-0845da36589c",
   "metadata": {},
   "outputs": [
    {
     "ename": "SyntaxError",
     "evalue": "invalid syntax (1802410270.py, line 1)",
     "output_type": "error",
     "traceback": [
      "\u001b[0;36m  Cell \u001b[0;32mIn [2], line 1\u001b[0;36m\u001b[0m\n\u001b[0;31m    12. Create a program that prints the prime numbers in a given range using a `for` loop.\u001b[0m\n\u001b[0m        ^\u001b[0m\n\u001b[0;31mSyntaxError\u001b[0m\u001b[0;31m:\u001b[0m invalid syntax\n"
     ]
    }
   ],
   "source": [
    "12. Create a program that prints the prime numbers in a given range using a `for` loop."
   ]
  },
  {
   "cell_type": "code",
   "execution_count": null,
   "id": "ab7ba317-38b3-4ed5-b521-09bc84928b59",
   "metadata": {},
   "outputs": [],
   "source": [
    "list1 = []\n",
    "i = 2\n",
    "for i in range(2,51):\n",
    "    is_prime = True\n",
    "    for divisor in range(2,int(i**0.5)+1):\n",
    "        if i % divisor == 0:\n",
    "            is_prime = False\n",
    "            break\n",
    "    if is_prime:\n",
    "        list1.append(i)\n",
    "print(list1)"
   ]
  },
  {
   "cell_type": "code",
   "execution_count": null,
   "id": "c168ca5e-ac67-44d8-b25d-b3741b9bff4b",
   "metadata": {},
   "outputs": [],
   "source": [
    "13. Develop a program that counts the number of vowels in a string using a `for` loop."
   ]
  },
  {
   "cell_type": "code",
   "execution_count": null,
   "id": "2b776d37-9140-400f-9314-49229d621166",
   "metadata": {},
   "outputs": [],
   "source": [
    "vowel = \"aeiouAEIOU\"\n",
    "count = 0\n",
    "str = input(\"enter the string\")\n",
    "for i in str:\n",
    "    if i in vowel:\n",
    "        count = count + 1\n",
    "print(count)"
   ]
  },
  {
   "cell_type": "code",
   "execution_count": null,
   "id": "14c9075e-92b1-4558-9607-074bca8467ff",
   "metadata": {},
   "outputs": [],
   "source": [
    "14. Write a program to find the maximum element in a 2D list using a nested `for` loop."
   ]
  },
  {
   "cell_type": "code",
   "execution_count": null,
   "id": "14ce58b3-397e-40ae-a3a9-ef7d85bf941a",
   "metadata": {},
   "outputs": [],
   "source": [
    "matrix  = [\n",
    "    [1,2,3],\n",
    "    [4,5,6],\n",
    "    [10,20,111]\n",
    "]\n",
    "max = 0\n",
    "for i in matrix:\n",
    "    for element in i:\n",
    "        if element > max:\n",
    "            max = element\n",
    "print(max)\n",
    "    "
   ]
  },
  {
   "cell_type": "code",
   "execution_count": null,
   "id": "859eb198-4b4c-4e91-a252-ccc9a9cd253e",
   "metadata": {},
   "outputs": [],
   "source": [
    "15. Create a program that removes all occurrences of a specific element from a list using a `for` loop."
   ]
  },
  {
   "cell_type": "code",
   "execution_count": null,
   "id": "f39f892d-a16b-4b64-81fe-3075f6a12851",
   "metadata": {},
   "outputs": [],
   "source": [
    "list  = [1,2,3,4,5,6,7,9]\n",
    "element = 9 \n",
    "for i in list:\n",
    "    if element in list:\n",
    "        list.remove(element)\n",
    "        break\n",
    "print(list)"
   ]
  },
  {
   "cell_type": "code",
   "execution_count": null,
   "id": "7c50c78c-d11e-4c4c-9e13-da8f46cf750d",
   "metadata": {},
   "outputs": [],
   "source": [
    "16. Develop a program that generates a multiplication table for numbers from 1 to 5 using a nested `for` loop."
   ]
  },
  {
   "cell_type": "code",
   "execution_count": null,
   "id": "8284540f-9ea2-4812-8f87-286f629810dd",
   "metadata": {},
   "outputs": [],
   "source": [
    "for i in range(1,6):\n",
    "    for j in range(1,11):\n",
    "        result  = 0\n",
    "        result  = i * j\n",
    "        print(f\"{i} * {j} = \",result)\n",
    "\n",
    "        "
   ]
  },
  {
   "cell_type": "code",
   "execution_count": null,
   "id": "8f88cf84-b137-49c2-8eb3-6d253464bae1",
   "metadata": {},
   "outputs": [],
   "source": [
    "17. Write a program that converts a list of Fahrenheit temperatures to Celsius using a `for` loop."
   ]
  },
  {
   "cell_type": "code",
   "execution_count": null,
   "id": "9ec5fde3-65b4-4729-97ba-a9b9ff4b2ee8",
   "metadata": {},
   "outputs": [],
   "source": [
    "fahrenheit = [50,60,111,45]\n",
    "celsius  = []\n",
    "for i in  fahrenheit:\n",
    "    result = (i - 32) * 5/9 \n",
    "    celsius.append(result)\n",
    "    \n",
    "print(celsius)\n",
    "    \n"
   ]
  },
  {
   "cell_type": "code",
   "execution_count": null,
   "id": "b77752fc-3b92-403e-bcc6-faf0233834e7",
   "metadata": {},
   "outputs": [],
   "source": [
    "18. Create a program to print the common elements from two lists using a `for` loop."
   ]
  },
  {
   "cell_type": "code",
   "execution_count": null,
   "id": "67233ead-1af8-44bb-82df-5fff8ebe48f4",
   "metadata": {},
   "outputs": [],
   "source": [
    "list1 = [1,2,3.4]\n",
    "list2 = [5,6,3,4]\n",
    "result = []\n",
    "for i in list1:\n",
    "    if i in list2:\n",
    "        result.append(i)\n",
    "print(\"common element\",result)"
   ]
  },
  {
   "cell_type": "code",
   "execution_count": null,
   "id": "8eb8bd68-0723-4f61-a702-7d4eac4baf56",
   "metadata": {},
   "outputs": [],
   "source": [
    "19. Develop a program that prints the pattern of right-angled triangles using a `for` loop. Use ‘*’ to draw the\n",
    "pattern"
   ]
  },
  {
   "cell_type": "code",
   "execution_count": null,
   "id": "e248fff0-649a-49e9-a383-587113f8bb5c",
   "metadata": {},
   "outputs": [],
   "source": [
    "n = 5\n",
    "for i in range(n):\n",
    "    for j in range(i + 1):\n",
    "        print('*', end=' ')\n",
    "    print()\n"
   ]
  },
  {
   "cell_type": "code",
   "execution_count": null,
   "id": "34ff5e2b-c0e5-4e1c-81ac-69a63f03a4f9",
   "metadata": {},
   "outputs": [],
   "source": [
    "20. Write a program to find the greatest common divisor (GCD) of two numbers using a `for` loop."
   ]
  },
  {
   "cell_type": "code",
   "execution_count": 5,
   "id": "7e92219e-70a2-4d62-9e31-fb8b42e9059e",
   "metadata": {},
   "outputs": [
    {
     "name": "stdin",
     "output_type": "stream",
     "text": [
      "Enter the first number:  4\n",
      "Enter the second number:  6\n"
     ]
    },
    {
     "name": "stdout",
     "output_type": "stream",
     "text": [
      "The GCD of 4 and 6 is 2\n"
     ]
    }
   ],
   "source": [
    "\n",
    "num1 = int(input(\"Enter the first number: \"))\n",
    "num2 = int(input(\"Enter the second number: \"))\n",
    "\n",
    "\n",
    "min_num = min(num1, num2)\n",
    "\n",
    "gcd = 1\n",
    "\n",
    "\n",
    "for i in range(1, min_num + 1):\n",
    "    if num1 % i == 0 and num2 % i == 0:\n",
    "        gcd = i\n",
    "\n",
    "# Print the GCD\n",
    "print(f\"The GCD of {num1} and {num2} is {gcd}\")\n"
   ]
  },
  {
   "cell_type": "code",
   "execution_count": null,
   "id": "dfe4af3e-0d97-444b-9573-c38ad1f81c84",
   "metadata": {},
   "outputs": [],
   "source": [
    "  \n",
    "    \n",
    "    Advanced Level:\n",
    "    \n",
    "    \n",
    "    \n",
    "    \n",
    "    "
   ]
  },
  {
   "cell_type": "code",
   "execution_count": null,
   "id": "5aac1e92-fecd-478f-8570-947b87ddf921",
   "metadata": {},
   "outputs": [],
   "source": [
    "21. Create a program that calculates the sum of the digits of numbers in a list using a list comprehension."
   ]
  },
  {
   "cell_type": "code",
   "execution_count": null,
   "id": "582d2a31-ab87-4563-ad87-03bbb66aa9fc",
   "metadata": {},
   "outputs": [],
   "source": [
    "\n",
    "numbers = [123, 45, 678, 9]\n",
    "\n",
    "digit_sums = [sum(int(digit) for digit in str(num)) for num in numbers]\n",
    "\n",
    "\n",
    "print(\"Sum of digits for each number:\", digit_sums)\n"
   ]
  },
  {
   "cell_type": "code",
   "execution_count": null,
   "id": "1822e481-8736-4abd-8860-38ae1032c7c1",
   "metadata": {},
   "outputs": [],
   "source": [
    "22. Write a program to find the prime fctors of a given number using a `for` loop and list comprehension."
   ]
  },
  {
   "cell_type": "code",
   "execution_count": 6,
   "id": "73815ae0-9880-4c09-b7df-b97a0fbed1e8",
   "metadata": {},
   "outputs": [
    {
     "name": "stdin",
     "output_type": "stream",
     "text": [
      "Enter a number:  10\n"
     ]
    },
    {
     "name": "stdout",
     "output_type": "stream",
     "text": [
      "Prime factors of the given number: [2, 5]\n"
     ]
    }
   ],
   "source": [
    "# Input the number\n",
    "number = int(input(\"Enter a number: \"))\n",
    "\n",
    "# Find prime factors using list comprehension\n",
    "prime_factors = [divisor for divisor in range(2, number + 1) if number % divisor == 0]\n",
    "prime_factors = [factor for factor in prime_factors if all(factor % divisor != 0 for divisor in range(2, factor))]\n",
    "\n",
    "# Print the prime factors\n",
    "print(f\"Prime factors of the given number: {prime_factors}\")\n"
   ]
  },
  {
   "cell_type": "code",
   "execution_count": null,
   "id": "de279e18-76ea-460f-b0ba-2af8e2d55285",
   "metadata": {},
   "outputs": [],
   "source": [
    "23. Develop a program that extracts unique elements from a list and stores them in a new list using a list\n",
    "comprehension."
   ]
  },
  {
   "cell_type": "code",
   "execution_count": null,
   "id": "aaa12e93-706b-4d90-bbb9-b8794acdd3e0",
   "metadata": {},
   "outputs": [],
   "source": [
    "input_list = [1,2,2,2,2,2,3,3,4,5,5,6,7,8,9]\n",
    "result = []\n",
    "[result.append(x) for x in input_list if x not in result]\n",
    "print(result)"
   ]
  },
  {
   "cell_type": "code",
   "execution_count": null,
   "id": "5dbd472c-9433-4bfa-9b60-d72a1247ddd8",
   "metadata": {},
   "outputs": [],
   "source": [
    "24. Create a program that generates a list of all palindromic numbers up to a specified limit using a list\n",
    "comprehension."
   ]
  },
  {
   "cell_type": "code",
   "execution_count": null,
   "id": "0255f592-0749-4cd8-94ed-0a24b2baf65a",
   "metadata": {},
   "outputs": [],
   "source": [
    "limit  = int(input(\"enter the limit\"))\n",
    "palindrome = [num for num in range(1,limit+1) if str(num) == str(num)[::-1]]\n",
    "print(palindrome)"
   ]
  },
  {
   "cell_type": "code",
   "execution_count": null,
   "id": "37642c0d-bcdd-4a1f-aeeb-00093bf0f75c",
   "metadata": {},
   "outputs": [],
   "source": [
    "25. Write a program to flatten a nested list using list comprehension."
   ]
  },
  {
   "cell_type": "code",
   "execution_count": null,
   "id": "40754fc5-9849-49c4-a98d-f805dbb514d4",
   "metadata": {},
   "outputs": [],
   "source": [
    "def flatten_nested_list(nested_list):\n",
    "    flattened_list = [item for sublist in nested_list for item in (flatten_nested_list(sublist) if isinstance(sublist, list) else [sublist])]\n",
    "    return flattened_list\n",
    "\n",
    "# Example nested list\n",
    "nested_list = [1, [2, 3], [4, [5, 6]], 7, [8]]\n",
    "\n",
    "# Flatten the nested list using list comprehension\n",
    "flattened_list = flatten_nested_list(nested_list)\n",
    "\n",
    "# Print the flattened list\n",
    "print(\"Original Nested List:\")\n",
    "print(nested_list)\n",
    "print(\"\\nFlattened List:\")\n",
    "print(flattened_list)\n"
   ]
  },
  {
   "cell_type": "code",
   "execution_count": null,
   "id": "194c66bf-3c2c-4b4d-a5a4-d076480e15d4",
   "metadata": {},
   "outputs": [],
   "source": [
    "26. Develop a program that computes the sum of even and odd numbers in a list separately using list\n",
    "comprehension."
   ]
  },
  {
   "cell_type": "code",
   "execution_count": null,
   "id": "266eb3b9-2956-4fef-9047-6cddb27feee7",
   "metadata": {},
   "outputs": [],
   "source": [
    "sum_even =[]\n",
    "odd = []\n",
    "[odd.append(x) for x in range(1,21) if x%2 != 0]\n",
    "[sum_even.append(x) for x in range(1,21) if x%2 == 0]\n",
    "print(sum(sum_even))\n",
    "print(sum(odd))"
   ]
  },
  {
   "cell_type": "code",
   "execution_count": null,
   "id": "a65969aa-89a5-436e-8fc7-66f65ee3fa96",
   "metadata": {},
   "outputs": [],
   "source": [
    "27. Create a program that generates a list of squares of odd numbers between 1 and 10 using list\n",
    "comprehension."
   ]
  },
  {
   "cell_type": "code",
   "execution_count": null,
   "id": "fdc30396-476f-4698-b173-b217c7c251a4",
   "metadata": {},
   "outputs": [],
   "source": [
    "odd_square = []\n",
    "[odd_square.append(x*x) for x in range(1,11) ]\n",
    "print(sum(odd_square))"
   ]
  },
  {
   "cell_type": "code",
   "execution_count": null,
   "id": "ded7c9c7-6fe7-4dae-bc49-503034d2ff65",
   "metadata": {},
   "outputs": [],
   "source": [
    "28. Write a program that combines two lists into a dictionary using list comprehension."
   ]
  },
  {
   "cell_type": "code",
   "execution_count": null,
   "id": "e6eedfdd-128b-4055-8629-a8b2b76c752c",
   "metadata": {},
   "outputs": [],
   "source": [
    "# Example lists\n",
    "keys = ['a', 'b', 'c']\n",
    "values = [1, 2, 3]\n",
    "\n",
    "# Combine the lists into a dictionary using list comprehension\n",
    "combined_dict = {keys[i]: values[i] for i in range(min(len(keys), len(values)))}\n",
    "\n",
    "# Print the resulting dictionary\n",
    "print(combined_dict)\n",
    "\n"
   ]
  },
  {
   "cell_type": "code",
   "execution_count": null,
   "id": "7e7610ed-2951-4ff8-8605-25e46931ec92",
   "metadata": {},
   "outputs": [],
   "source": [
    "29. Develop a program that extracts the vowels from a string and stores them in a list using list comprehension."
   ]
  },
  {
   "cell_type": "code",
   "execution_count": null,
   "id": "3e543a61-735b-45ea-aa37-74a587286397",
   "metadata": {},
   "outputs": [],
   "source": [
    "vowels = \"aeiouAEIOU\"\n",
    "str = input(\"enter the string\")\n",
    "\n",
    "result = [x for x in str if x in vowels]\n",
    "print(result)"
   ]
  },
  {
   "cell_type": "code",
   "execution_count": null,
   "id": "a5439cac-522d-46f2-a40e-6541834ac614",
   "metadata": {},
   "outputs": [],
   "source": [
    "30. Create a program that removes all non-numeric characters from a list of strings using list comprehension."
   ]
  },
  {
   "cell_type": "code",
   "execution_count": null,
   "id": "2e4462c6-405e-46d1-8e98-be797617f38d",
   "metadata": {},
   "outputs": [],
   "source": [
    "str = input(\"enter the string\")\n",
    "result = []\n",
    "result = [char for char in str if char != str.isdigit()]\n",
    "print(result)\n"
   ]
  },
  {
   "cell_type": "code",
   "execution_count": null,
   "id": "3aee6d52-a4d6-4e08-b422-d3ecc6d101c3",
   "metadata": {},
   "outputs": [],
   "source": [
    "31. Write a program to generate a list of prime numbers using the Sieve of Eratosthenes algorithm and list\n",
    "comprehension."
   ]
  },
  {
   "cell_type": "code",
   "execution_count": null,
   "id": "896163db-65c4-480d-b30c-e3f8f570bde0",
   "metadata": {},
   "outputs": [],
   "source": [
    "n = 15\n",
    "a = [True for _ in range(n)]\n",
    "a[0] = a[1] = False  # 0 and 1 are not prime numbers\n",
    "\n",
    "for i in range(2, int(n**0.5) + 1):\n",
    "    if a[i]:\n",
    "        a[i*i:n:i] = [False] * len(range(i*i, n, i))\n",
    "\n",
    "prime_numbers = [i for i, is_prime in enumerate(a) if is_prime]\n",
    "\n",
    "print(prime_numbers)\n",
    "\n"
   ]
  },
  {
   "cell_type": "code",
   "execution_count": null,
   "id": "3cc8046e-e041-4f60-ab0e-cc0a926df327",
   "metadata": {},
   "outputs": [],
   "source": [
    "32. Create a program that generates a list of all Pythagorean triplets up to a specified limit using list\n",
    "comprehension."
   ]
  },
  {
   "cell_type": "code",
   "execution_count": null,
   "id": "2c2c48f3-0389-4940-8811-a748ff65df11",
   "metadata": {},
   "outputs": [],
   "source": [
    "limit = int(input(\"enter the number\"))\n",
    "tripl = [(a,b,c) for a in range(1,limit+1) for b in range(1,limit+1) for c in range(1,limit+1) if a**2 + b**2 == c**2]\n",
    "print(tripl)"
   ]
  },
  {
   "cell_type": "code",
   "execution_count": null,
   "id": "67e62674-a298-470a-913a-de45847f9e17",
   "metadata": {},
   "outputs": [],
   "source": [
    "33. Develop a program that generates a list of all possible combinations of two lists using list comprehension."
   ]
  },
  {
   "cell_type": "code",
   "execution_count": null,
   "id": "d97f52c8-aa5f-451a-90f3-309a84d6d80d",
   "metadata": {},
   "outputs": [],
   "source": [
    "list1 = [1,2,3]\n",
    "list2 = ['a','b']\n",
    "result = [(x,y) for x in list1 for y in list2]\n",
    "print(result)"
   ]
  },
  {
   "cell_type": "code",
   "execution_count": null,
   "id": "e2bb6ed3-560f-4250-8ee9-b62e19897dd7",
   "metadata": {},
   "outputs": [],
   "source": [
    "34. Write a program that calculates the mean, median, and mode of a list of numbers using list\n",
    "comprehension."
   ]
  },
  {
   "cell_type": "code",
   "execution_count": null,
   "id": "414085a2-e3b5-4166-8285-6ef37d093acb",
   "metadata": {},
   "outputs": [],
   "source": [
    "\n",
    "numbers = [1, 2, 3, 4, 5, 5, 6, 7, 8, 9]\n",
    "\n",
    "mean = sum(numbers) / len(numbers)\n",
    "sorted_numbers = sorted(numbers)\n",
    "n = len(sorted_numbers)\n",
    "median = (sorted_numbers[n // 2] + sorted_numbers[n // 2 - 1]) / 2 if n % 2 == 0 else sorted_numbers[n // 2]\n",
    "\n",
    "\n",
    "count_dict = {num: numbers.count(num) for num in numbers}\n",
    "max_count = max(count_dict.values())\n",
    "mode = [key for key, value in count_dict.items() if value == max_count]\n",
    "\n",
    "print(f\"Mean: {mean}\")\n",
    "print(f\"Median: {median}\")\n",
    "print(f\"Mode: {mode}\")\n"
   ]
  },
  {
   "cell_type": "code",
   "execution_count": null,
   "id": "dff86eb5-5861-48ea-ad82-a9807b6b7c97",
   "metadata": {},
   "outputs": [],
   "source": [
    "35. Create a program that generates Pascal's triangle up to a specified number of rows using list\n",
    "comprehension."
   ]
  },
  {
   "cell_type": "code",
   "execution_count": null,
   "id": "08279639-61bb-4f66-b54b-33fa2d727de1",
   "metadata": {},
   "outputs": [],
   "source": [
    "num_rows = int(input(\"Enter the number of rows for Pascal's triangle: \"))\n",
    "\n",
    "\n",
    "triangle = [[1]]\n",
    "\n",
    "\n",
    "for i in range(1, num_rows):\n",
    "    previous_row = triangle[i - 1]\n",
    "    new_row = [1] + [previous_row[j] + previous_row[j + 1] for j in range(i - 1)] + [1]\n",
    "    triangle.append(new_row)\n",
    "\n",
    "# Find the maximum width for formattin\n",
    "max_width = len(' '.join(map(str, triangle[-1])))\n",
    "\n",
    "# Print Pascal's triangle in a visually centered format\n",
    "for row in triangle:\n",
    "    row_str = ' '.join(map(str, row))\n",
    "    print(row_str.center(max_width))\n"
   ]
  },
  {
   "cell_type": "code",
   "execution_count": null,
   "id": "05bc6043-0dd3-49f0-8cc7-3d2e17eb3636",
   "metadata": {},
   "outputs": [],
   "source": [
    "36. Develop a program that calculates the sum of the digits of a factorial of numbers from 1 to 5 using list\n",
    "comprehension."
   ]
  },
  {
   "cell_type": "code",
   "execution_count": null,
   "id": "d713ac5a-5387-4b1f-92db-9a3bb194584e",
   "metadata": {},
   "outputs": [],
   "source": [
    "\n",
    "def factorial(n):\n",
    "    if n == 0:\n",
    "        return 1\n",
    "    else:\n",
    "        return n * factorial(n - 1)\n",
    "\n",
    "\n",
    "factorial_sums = [sum(map(int, str(factorial(i)))) for i in range(1, 6)]\n",
    "\n",
    "# Print the sums of the digits\n",
    "for i, sum_of_digits in enumerate(factorial_sums, start=1):\n",
    "    print(f\"Factorial of {i} has sum of digits: {sum_of_digits}\")\n"
   ]
  },
  {
   "cell_type": "code",
   "execution_count": null,
   "id": "1000663b-cd5a-4327-b5e0-82ecf0b27052",
   "metadata": {},
   "outputs": [],
   "source": [
    "37. Write a program that finds the longest word in a sentence using list comprehension."
   ]
  },
  {
   "cell_type": "code",
   "execution_count": null,
   "id": "9edd62ce-2828-4db1-9a85-fd3c95c5202a",
   "metadata": {},
   "outputs": [],
   "source": [
    "sentence = \"This is a sample sentence to find the longest word\"\n",
    "\n",
    "\n",
    "words = sentence.split()\n",
    "longest_length = max(len(word) for word in words)\n",
    "longest_words = [word for word in words if len(word) == longest_length]\n",
    "\n",
    "\n",
    "print(\"Longest word(s):\", longest_words)\n",
    "\n"
   ]
  },
  {
   "cell_type": "code",
   "execution_count": null,
   "id": "faf3be91-d84a-456b-8e22-7340de1519b8",
   "metadata": {},
   "outputs": [],
   "source": [
    "38. Create a program that filters a list of strings to include only those with more than three vowels using list\n",
    "comprehension."
   ]
  },
  {
   "cell_type": "code",
   "execution_count": null,
   "id": "c56c47b8-0ff0-46a3-9f78-2bf8aa535385",
   "metadata": {},
   "outputs": [],
   "source": [
    "# Function to count vowels in a string\n",
    "def count_vowels(string):\n",
    "    vowels = \"AEIOUaeiou\"\n",
    "    return sum(1 for char in string if char in vowels)\n",
    "\n",
    "# List of strings\n",
    "string_list = [\"apple\", \"banana\", \"cherry\", \"date\", \"elephant\", \"fig\", \"grape\"]\n",
    "\n",
    "# Use list comprehension to filter strings with more than three vowels\n",
    "filtered_strings = [s for s in string_list if count_vowels(s) > 3]\n",
    "\n",
    "# Print the filtered strings\n",
    "print(\"Strings with more than three vowels:\")\n",
    "for string in filtered_strings:\n",
    "    print(string)\n",
    "\n"
   ]
  },
  {
   "cell_type": "code",
   "execution_count": null,
   "id": "482d59db-b385-4976-a1f4-8b9078aea36c",
   "metadata": {},
   "outputs": [],
   "source": [
    "39. Develop a program that calculates the sum of the digits of numbers from 1 to 1000 using list\n",
    "comprehension."
   ]
  },
  {
   "cell_type": "code",
   "execution_count": null,
   "id": "b594e6fa-5b11-4bd3-a186-7abb09c0f9fd",
   "metadata": {},
   "outputs": [],
   "source": [
    "result = [x for x in range(1,10001)]\n",
    "print(sum(result))"
   ]
  },
  {
   "cell_type": "code",
   "execution_count": null,
   "id": "74fab878-7494-4fc4-ae7a-396f293e55b8",
   "metadata": {},
   "outputs": [],
   "source": [
    "40. Write a program that generates a list of prime palindromic numbers using list comprehension."
   ]
  },
  {
   "cell_type": "code",
   "execution_count": 3,
   "id": "d5511e8e-8d47-47e3-8ad9-025ba807c3d2",
   "metadata": {},
   "outputs": [
    {
     "name": "stdout",
     "output_type": "stream",
     "text": [
      "Prime Palindromic Numbers:\n",
      "[2, 3, 5, 7, 11, 101, 131, 151, 181, 191, 313, 353, 373, 383, 727, 757, 787, 797, 919, 929, 10301, 10501, 10601, 11311, 11411, 12421, 12721, 12821, 13331, 13831, 13931, 14341, 14741, 15451, 15551, 16061, 16361, 16561, 16661, 17471, 17971, 18181, 18481, 19391, 19891, 19991, 30103, 30203, 30403, 30703, 30803, 31013, 31513, 32323, 32423, 33533, 34543, 34843, 35053, 35153, 35353, 35753, 36263, 36563, 37273, 37573, 38083, 38183, 38783, 39293, 70207, 70507, 70607, 71317, 71917, 72227, 72727, 73037, 73237, 73637, 74047, 74747, 75557, 76367, 76667, 77377, 77477, 77977, 78487, 78787, 78887, 79397, 79697, 79997, 90709, 91019, 93139, 93239, 93739, 94049, 94349, 94649, 94849, 94949, 95959, 96269, 96469, 96769, 97379, 97579, 97879, 98389, 98689]\n"
     ]
    }
   ],
   "source": [
    "# Function to check if a number is prime\n",
    "def is_prime(n):\n",
    "    if n <= 1:\n",
    "        return False\n",
    "    if n <= 3:\n",
    "        return True\n",
    "    if n % 2 == 0 or n % 3 == 0:\n",
    "        return False\n",
    "    i = 5\n",
    "    while i * i <= n:\n",
    "        if n % i == 0 or n % (i + 2) == 0:\n",
    "            return False\n",
    "        i += 6\n",
    "    return True\n",
    "\n",
    "# Use list comprehension to generate palindromic numbers\n",
    "palindromic_numbers = [str(i) for i in range(10**6) if str(i) == str(i)[::-1]]\n",
    "\n",
    "# Filter palindromic numbers to include only prime numbers\n",
    "prime_palindromic_numbers = [int(p) for p in palindromic_numbers if is_prime(int(p))]\n",
    "\n",
    "# Print the list of prime palindromic numbers\n",
    "print(\"Prime Palindromic Numbers:\")\n",
    "print(prime_palindromic_numbers)\n"
   ]
  },
  {
   "cell_type": "code",
   "execution_count": null,
   "id": "139e7b5f-197a-46a4-ae69-357282067f8d",
   "metadata": {},
   "outputs": [],
   "source": [
    "\n"
   ]
  },
  {
   "cell_type": "code",
   "execution_count": null,
   "id": "569cfd37-6ad6-46f3-bb4d-64e4cb705b85",
   "metadata": {},
   "outputs": [],
   "source": []
  },
  {
   "cell_type": "code",
   "execution_count": null,
   "id": "a24fe72e-7232-4f5a-8a4c-562d939c8ce2",
   "metadata": {},
   "outputs": [],
   "source": []
  }
 ],
 "metadata": {
  "kernelspec": {
   "display_name": "Python 3 (ipykernel)",
   "language": "python",
   "name": "python3"
  },
  "language_info": {
   "codemirror_mode": {
    "name": "ipython",
    "version": 3
   },
   "file_extension": ".py",
   "mimetype": "text/x-python",
   "name": "python",
   "nbconvert_exporter": "python",
   "pygments_lexer": "ipython3",
   "version": "3.10.6"
  }
 },
 "nbformat": 4,
 "nbformat_minor": 5
}
